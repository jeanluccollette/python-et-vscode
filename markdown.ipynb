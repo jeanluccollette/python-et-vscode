{
 "cells": [
  {
   "cell_type": "markdown",
   "id": "062235e6",
   "metadata": {},
   "source": [
    "# Exemple de cellule &#0171; Marquage &#0187; (Markdown)\n",
    "\n",
    "## Mise en forme du texte\n",
    "\n",
    "On peut écrire du texte en **gras** ou en _italique_, insérer un [lien](https://fr.wikipedia.org/wiki/Markdown)\n",
    "ou constituer des listes à puces imbriquées comme ci-dessous.\n",
    "\n",
    "  1. fruits\n",
    "     * pomme\n",
    "     * banane\n",
    "  2. légumes\n",
    "     * carotte\n",
    "     * brocoli\n",
    "\n",
    "## Latex\n",
    "\n",
    "On peut écrire des formules mathématiques insérées dans le corps du texte,\n",
    "telles que $\\int_{-\\infty}^{+\\infty}x(\\tau)d\\tau$ ou bien d'autres.\n",
    "\n",
    "La même formule est cette fois isolée du texte dans l'exemple ci-dessous.\n",
    "\n",
    "$$\\int_{-\\infty}^{+\\infty}x(\\tau)d\\tau$$\n",
    "\n",
    "La plupart des expressions en Latex sont utilisables dans une cellule  &#0171; Marquage &#0187; (Markdown)."
   ]
  }
 ],
 "metadata": {
  "language_info": {
   "name": "python"
  }
 },
 "nbformat": 4,
 "nbformat_minor": 5
}
