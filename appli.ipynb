{
 "cells": [
  {
   "cell_type": "markdown",
   "id": "fa4a9f8b",
   "metadata": {},
   "source": [
    "# Fichier appli.ipynb"
   ]
  },
  {
   "cell_type": "markdown",
   "id": "d1161249",
   "metadata": {},
   "source": [
    "## Définition des fonctions"
   ]
  },
  {
   "cell_type": "code",
   "execution_count": 1,
   "id": "e7b3f493",
   "metadata": {},
   "outputs": [],
   "source": [
    "def add(a, b):\n",
    "    return a+b\n",
    "\n",
    "\n",
    "def sub(a, b):\n",
    "    return a-b\n",
    "\n",
    "\n",
    "def mul(a, b):\n",
    "    return a*b"
   ]
  },
  {
   "cell_type": "markdown",
   "id": "3715ed0f",
   "metadata": {},
   "source": [
    "## Utilisation des fonctions"
   ]
  },
  {
   "cell_type": "code",
   "execution_count": 2,
   "id": "85b25871",
   "metadata": {},
   "outputs": [],
   "source": [
    "c, d = 2, 3"
   ]
  },
  {
   "cell_type": "code",
   "execution_count": 3,
   "id": "e9604f3d",
   "metadata": {},
   "outputs": [
    {
     "name": "stdout",
     "output_type": "stream",
     "text": [
      "5\n"
     ]
    }
   ],
   "source": [
    "e = add(c, d)\n",
    "print(e)"
   ]
  },
  {
   "cell_type": "code",
   "execution_count": 4,
   "id": "bab00951",
   "metadata": {},
   "outputs": [
    {
     "name": "stdout",
     "output_type": "stream",
     "text": [
      "-1\n"
     ]
    }
   ],
   "source": [
    "e = sub(c, d)\n",
    "print(e)"
   ]
  },
  {
   "cell_type": "code",
   "execution_count": 5,
   "id": "7681474a",
   "metadata": {},
   "outputs": [
    {
     "name": "stdout",
     "output_type": "stream",
     "text": [
      "6\n"
     ]
    }
   ],
   "source": [
    "e = mul(c, d)\n",
    "print(e)"
   ]
  }
 ],
 "metadata": {
  "kernelspec": {
   "display_name": "Python 3",
   "language": "python",
   "name": "python3"
  },
  "language_info": {
   "codemirror_mode": {
    "name": "ipython",
    "version": 3
   },
   "file_extension": ".py",
   "mimetype": "text/x-python",
   "name": "python",
   "nbconvert_exporter": "python",
   "pygments_lexer": "ipython3",
   "version": "3.10.6"
  }
 },
 "nbformat": 4,
 "nbformat_minor": 5
}
